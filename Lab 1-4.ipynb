{
 "cells": [
  {
   "cell_type": "code",
   "execution_count": 1,
   "id": "61a7f7ec-06e9-4f1f-8eb5-3afd02b1830e",
   "metadata": {},
   "outputs": [
    {
     "data": {
      "text/html": [
       "<span style='font-size:20px; font-weight:bold;'>OUTPUT:</span>"
      ],
      "text/plain": [
       "<IPython.core.display.HTML object>"
      ]
     },
     "metadata": {},
     "output_type": "display_data"
    }
   ],
   "source": [
    "from IPython.display import display, HTML\n",
    "display(HTML(\"<span style='font-size:20px; font-weight:bold;'>OUTPUT:</span>\"))"
   ]
  },
  {
   "cell_type": "markdown",
   "id": "9f0961c6-786f-4205-beb0-6b12e1d7626a",
   "metadata": {},
   "source": [
    "# Practical No. 1a \n",
    "\n",
    "# `Lists`\n"
   ]
  },
  {
   "cell_type": "markdown",
   "id": "78d53698-0dc7-4f27-be46-d071ee71b787",
   "metadata": {},
   "source": [
    "### 1.Write a Python program to create a list and perform the following methods.\n",
    "    1.\tinsert()\n",
    "    2.\tremove()\n",
    "    3.\tappend()\n",
    "    4.\tlen()\n",
    "    5.\tpop()\n",
    "    6.\tclear()\n"
   ]
  },
  {
   "cell_type": "code",
   "execution_count": 2,
   "id": "75efdaa2-407b-4685-a54e-c6ec4121092a",
   "metadata": {},
   "outputs": [
    {
     "name": "stdout",
     "output_type": "stream",
     "text": [
      "After insert: ['apple']\n",
      "After remove: []\n",
      "After append: ['banana']\n",
      "Length of the list: 1\n",
      "After pop: []\n",
      "After clear: []\n"
     ]
    }
   ],
   "source": [
    "# Create an empty list\n",
    "my_list = []\n",
    "# a) insert() - Insert 'apple' at index 0\n",
    "my_list.insert(0, 'apple')\n",
    "print(\"After insert:\", my_list)\n",
    " \n",
    "# b) remove() - Remove 'apple' from the list\n",
    "my_list.remove('apple')\n",
    "print(\"After remove:\", my_list)\n",
    " \n",
    "# c) append() - Append 'banana' to the list\n",
    "my_list.append('banana')\n",
    "print(\"After append:\", my_list)\n",
    " \n",
    "# d) len() - Get the length of the list\n",
    "print(\"Length of the list:\", len(my_list))\n",
    " \n",
    "# e) pop() - Pop the last item in the list\n",
    "my_list.pop()\n",
    "print(\"After pop:\", my_list)\n",
    " \n",
    "# f) clear() - Clear the list\n",
    "my_list.clear()\n",
    "print(\"After clear:\", my_list)"
   ]
  },
  {
   "cell_type": "markdown",
   "id": "2ac4aa72-2dd6-44fb-b1cc-1f6dae68822d",
   "metadata": {},
   "source": [
    "### 2.Write a Python program to create a list and extract the values into variables by unpacking."
   ]
  },
  {
   "cell_type": "code",
   "execution_count": 3,
   "id": "0309ffd7-a0a1-4003-a71d-f7d0e0404d6f",
   "metadata": {},
   "outputs": [
    {
     "name": "stdout",
     "output_type": "stream",
     "text": [
      "Unpacked values: 10 20 30\n"
     ]
    }
   ],
   "source": [
    "# Create a list with three values\n",
    "my_list = [10, 20, 30]\n",
    "\n",
    "# Unpack the values into variables\n",
    "a, b, c = my_list\n",
    "print(\"Unpacked values:\", a, b, c)"
   ]
  },
  {
   "cell_type": "markdown",
   "id": "98055c02-bbf4-4c75-ad8c-964232f26358",
   "metadata": {},
   "source": [
    "### 3.Write a Python program to create a list of string items and sort the list alphabetically.\n",
    "\n"
   ]
  },
  {
   "cell_type": "code",
   "execution_count": 4,
   "id": "612e96b5-cb1a-4b11-8c17-268718a8171f",
   "metadata": {},
   "outputs": [
    {
     "name": "stdout",
     "output_type": "stream",
     "text": [
      "Alphabetically sorted list: ['apple', 'banana', 'cherry', 'date']\n"
     ]
    }
   ],
   "source": [
    "# Create a list of strings\n",
    "string_list = [\"banana\", \"apple\", \"cherry\", \"date\"]\n",
    "\n",
    "# Sort the list alphabetically\n",
    "string_list.sort()\n",
    "print(\"Alphabetically sorted list:\", string_list)"
   ]
  },
  {
   "cell_type": "markdown",
   "id": "f8560fb8-8f37-450b-b7d4-b0f85bc1f948",
   "metadata": {},
   "source": [
    "### 4.Write a Python program to sort the above list descending.\n",
    "\n"
   ]
  },
  {
   "cell_type": "code",
   "execution_count": 5,
   "id": "e66d29b9-43c6-4a87-8794-a41b7396c98e",
   "metadata": {},
   "outputs": [
    {
     "name": "stdout",
     "output_type": "stream",
     "text": [
      "Descending sorted list: ['date', 'cherry', 'banana', 'apple']\n"
     ]
    }
   ],
   "source": [
    "# Sort the list in descending order\n",
    "string_list.sort(reverse=True)\n",
    "print(\"Descending sorted list:\", string_list)"
   ]
  },
  {
   "cell_type": "markdown",
   "id": "ae3b7bec-edaa-42cd-b1d8-76e1c79e2c21",
   "metadata": {},
   "source": [
    "### 5.Write  a  Python  program  to  create  a  list  of  numerical  items  and  sort  the  list numerically.\n",
    "\n",
    "\n",
    "\n"
   ]
  },
  {
   "cell_type": "code",
   "execution_count": 6,
   "id": "c0908e5d-c6bc-464e-a8f1-f677b8133a15",
   "metadata": {},
   "outputs": [
    {
     "name": "stdout",
     "output_type": "stream",
     "text": [
      "Numerically sorted list: [1, 2, 3, 5, 8]\n"
     ]
    }
   ],
   "source": [
    "# Create a list of numbers\n",
    "num_list = [5, 3, 8, 1, 2]\n",
    "\n",
    "# Sort the list numerically\n",
    "num_list.sort()\n",
    "print(\"Numerically sorted list:\", num_list)"
   ]
  },
  {
   "cell_type": "markdown",
   "id": "f9be26f0-6c39-4629-9d8f-701783dde337",
   "metadata": {},
   "source": [
    "### 6.Write a Python program to sort the above list descending.\n",
    "\n",
    "\n"
   ]
  },
  {
   "cell_type": "code",
   "execution_count": 7,
   "id": "fec04c6d-300b-4f1c-9bf3-a4ad496b03dc",
   "metadata": {},
   "outputs": [
    {
     "name": "stdout",
     "output_type": "stream",
     "text": [
      "Numerically descending sorted list: [8, 5, 3, 2, 1]\n"
     ]
    }
   ],
   "source": [
    "# Sort the list in descending order\n",
    "num_list.sort(reverse=True)\n",
    "print(\"Numerically descending sorted list:\", num_list)"
   ]
  },
  {
   "cell_type": "markdown",
   "id": "39a0f8ed-ac13-46f1-b428-e713f6fb796c",
   "metadata": {},
   "source": [
    "# Practical No. 1b \n",
    "# `Tuples`\n"
   ]
  },
  {
   "cell_type": "markdown",
   "id": "cc0492ff-5b42-43fa-83cc-b4e5146b7e1b",
   "metadata": {},
   "source": [
    "### 1.Write Python program to perform following operations on Tuples:\n",
    "    a.\tCreate Tuple\n",
    "    b.\tAccess Tuple\n",
    "    c.\tUpdate Tuple\n",
    "    d.\tDelete Tuple\n",
    "    e.\tRemove item Tuple"
   ]
  },
  {
   "cell_type": "code",
   "execution_count": 8,
   "id": "ce99a3d3-ab38-4c11-883f-9ab705507dbc",
   "metadata": {},
   "outputs": [
    {
     "name": "stdout",
     "output_type": "stream",
     "text": [
      "Created Tuple: (1, 2, 3, 4, 5)\n",
      "Accessing an element (index 2): 3\n",
      "Updated Tuple: (1, 2, 3, 4, 5, 6)\n",
      "Tuple after removing an item: (1, 2, 4, 5)\n"
     ]
    }
   ],
   "source": [
    "# a) Create Tuple\n",
    "my_tuple = (1, 2, 3, 4, 5)\n",
    "print(\"Created Tuple:\", my_tuple)\n",
    " \n",
    "# b) Access Tuple\n",
    "print(\"Accessing an element (index 2):\", my_tuple[2])\n",
    " \n",
    "# c) Update Tuple (Tuples are immutable, so we can't directly update them; however, we can create a new tuple)\n",
    "# Let's add a new item by creating a new tuple\n",
    "updated_tuple = my_tuple + (6,)\n",
    "print(\"Updated Tuple:\", updated_tuple)\n",
    " \n",
    "# d) Delete Tuple\n",
    "del updated_tuple  # This will delete the entire tuple\n",
    "# print(updated_tuple)  # Uncommenting this line would raise an error because updated_tuple is deleted\n",
    " \n",
    "# e) Remove Item from Tuple (Tuples are immutable, so we can't remove an item directly; convert to list temporarily)\n",
    "temp_list = list(my_tuple)\n",
    "temp_list.remove(3)  # Removing the item '3'\n",
    "my_tuple = tuple(temp_list)\n",
    "print(\"Tuple after removing an item:\", my_tuple)"
   ]
  },
  {
   "cell_type": "markdown",
   "id": "5ce3e762-285f-45b9-a4ce-a77ddf0f7055",
   "metadata": {},
   "source": [
    "### 2.Write a Python program to find the repeated items of a tuple."
   ]
  },
  {
   "cell_type": "code",
   "execution_count": 9,
   "id": "30cb78f9-a49c-4ddc-aa63-f78d7fb2dfd6",
   "metadata": {},
   "outputs": [
    {
     "name": "stdout",
     "output_type": "stream",
     "text": [
      "Repeated items: {2, 3}\n"
     ]
    }
   ],
   "source": [
    "def find_repeated_items(tup):\n",
    "    repeated_items = set([item for item in tup if tup.count(item) > 1])\n",
    "    return repeated_items\n",
    "\n",
    "# Test the function\n",
    "test_tuple = (1, 2, 3, 4, 2, 5, 3)\n",
    "print(\"Repeated items:\", find_repeated_items(test_tuple))  \n"
   ]
  },
  {
   "cell_type": "markdown",
   "id": "7351b5ab-76f8-43b8-bbb7-29cb18048978",
   "metadata": {},
   "source": [
    "### 3.Write a Python program to iterate through the items and print the values.\n",
    "\n",
    "\n"
   ]
  },
  {
   "cell_type": "code",
   "execution_count": 10,
   "id": "c9402b72-eeff-4772-a006-7262b03dca95",
   "metadata": {},
   "outputs": [
    {
     "name": "stdout",
     "output_type": "stream",
     "text": [
      "10\n",
      "20\n",
      "30\n",
      "40\n",
      "50\n"
     ]
    }
   ],
   "source": [
    "# Tuple of items\n",
    "my_tuple = (10, 20, 30, 40, 50)\n",
    "\n",
    "# Iterate and print each value\n",
    "for item in my_tuple:\n",
    "    print(item)"
   ]
  },
  {
   "cell_type": "markdown",
   "id": "2ee972ef-b797-41ea-b5ae-609d8eec8473",
   "metadata": {},
   "source": [
    "# Practical No. 1c \n",
    "\n",
    "# `Dictionaries`\n"
   ]
  },
  {
   "cell_type": "markdown",
   "id": "ed3c1b63-ed39-44f0-9497-27eada9ef5a0",
   "metadata": {},
   "source": [
    "### 1.Write Python program to perform following operations on Dictionaries:\n",
    "    a.\tCreate Dictionary\n",
    "    b.\tAccess Dictionary elements\n",
    "    c.\tUpdate Dictionary\n",
    "    d.\tDelete Set\n",
    "    e.\tLooping through Dictionary\n",
    "\n",
    "\n"
   ]
  },
  {
   "cell_type": "code",
   "execution_count": 11,
   "id": "3e1d3733-f2a8-4516-bfd0-f38f942140b3",
   "metadata": {},
   "outputs": [
    {
     "name": "stdout",
     "output_type": "stream",
     "text": [
      "Created Dictionary: {'name': 'Sohaib', 'age': 20, 'city': 'Karachi'}\n",
      "Access 'name' element: Sohaib\n",
      "Updated Dictionary: {'name': 'Sohaib', 'age': 20, 'city': 'Karachi'}\n",
      "Dictionary after deletion: {'name': 'Sohaib', 'age': 20}\n",
      "name: Sohaib\n",
      "age: 20\n"
     ]
    }
   ],
   "source": [
    "# a) Create Dictionary\n",
    "my_dict = {'name': 'Sohaib', 'age': 20, 'city': 'Karachi'}\n",
    "print(\"Created Dictionary:\", my_dict)\n",
    " \n",
    "# b) Access Dictionary elements\n",
    "print(\"Access 'name' element:\", my_dict['name'])\n",
    " \n",
    "# c) Update Dictionary\n",
    "my_dict['age'] = 20\n",
    "print(\"Updated Dictionary:\", my_dict)\n",
    " \n",
    "# d) Delete Set (Assuming it means deleting an element from the dictionary)\n",
    "del my_dict['city']\n",
    "print(\"Dictionary after deletion:\", my_dict)\n",
    " \n",
    "# e) Looping through Dictionary\n",
    "for key, value in my_dict.items():\n",
    "    print(f\"{key}: {value}\")"
   ]
  },
  {
   "cell_type": "markdown",
   "id": "53a191d6-28e8-4432-a0ab-e8dc0c7a33b3",
   "metadata": {},
   "source": [
    "### 2.Write Python program to get the value of the 2nd key of dictionary.\n",
    "\n",
    "\n"
   ]
  },
  {
   "cell_type": "code",
   "execution_count": 12,
   "id": "a86a439d-b2e9-46e5-9d58-3d713ebf913f",
   "metadata": {},
   "outputs": [
    {
     "name": "stdout",
     "output_type": "stream",
     "text": [
      "Value of 2nd key: 200\n"
     ]
    }
   ],
   "source": [
    "my_dict = {'a': 100, 'b': 200, 'c': 300}\n",
    "second_key = list(my_dict.keys())[1]\n",
    "print(\"Value of 2nd key:\", my_dict[second_key])  "
   ]
  },
  {
   "cell_type": "markdown",
   "id": "5d22c915-8b97-4f45-8d75-7086a3b31336",
   "metadata": {},
   "source": [
    "### 3.Write a Python script to sort (ascending and descending) a dictionary by value.\n",
    "\n",
    "\n"
   ]
  },
  {
   "cell_type": "code",
   "execution_count": 13,
   "id": "1e46f322-578b-488d-938b-17622a21ca42",
   "metadata": {},
   "outputs": [
    {
     "name": "stdout",
     "output_type": "stream",
     "text": [
      "Ascending order: {'banana': 20, 'cherry': 30, 'apple': 50}\n",
      "Descending order: {'apple': 50, 'cherry': 30, 'banana': 20}\n"
     ]
    }
   ],
   "source": [
    "# Dictionary to sort\n",
    "my_dict = {'apple': 50, 'banana': 20, 'cherry': 30}\n",
    "# Sort in ascending order\n",
    "sorted_dict_asc = dict(sorted(my_dict.items(), key=lambda item: item[1]))\n",
    "print(\"Ascending order:\", sorted_dict_asc)\n",
    " \n",
    "# Sort in descending order\n",
    "sorted_dict_desc = dict(sorted(my_dict.items(), key=lambda item: item[1], reverse=True))\n",
    "print(\"Descending order:\", sorted_dict_desc)"
   ]
  },
  {
   "cell_type": "markdown",
   "id": "9154e3c1-3cbe-4507-8898-498a5d2b2ac0",
   "metadata": {},
   "source": [
    "### 4.Write a Python script to create a dictionary that contains three dictionaries.\n",
    "\n"
   ]
  },
  {
   "cell_type": "code",
   "execution_count": 14,
   "id": "96bcfec5-47e8-47ad-b312-c019793f0df7",
   "metadata": {},
   "outputs": [
    {
     "name": "stdout",
     "output_type": "stream",
     "text": [
      "Dictionary with three dictionaries: {'dict1': {'a': 1, 'b': 2}, 'dict2': {'c': 3, 'd': 4}, 'dict3': {'e': 5, 'f': 6}}\n"
     ]
    }
   ],
   "source": [
    "# Creating nested dictionaries\n",
    "dict1 = {'a': 1, 'b': 2}\n",
    "dict2 = {'c': 3, 'd': 4}\n",
    "dict3 = {'e': 5, 'f': 6}\n",
    "nested_dict = {'dict1': dict1, 'dict2': dict2, 'dict3': dict3}\n",
    "print(\"Dictionary with three dictionaries:\", nested_dict)"
   ]
  },
  {
   "cell_type": "markdown",
   "id": "c28dda6d-fe8a-4e6d-a63f-8ba7964ac782",
   "metadata": {},
   "source": [
    "### 5.Write a Python script to access the 2nd item of 2nd dictionary.\n",
    "\n",
    "\n"
   ]
  },
  {
   "cell_type": "code",
   "execution_count": 15,
   "id": "a38477c4-f168-4cc9-9b32-d63ade819958",
   "metadata": {},
   "outputs": [
    {
     "name": "stdout",
     "output_type": "stream",
     "text": [
      "2nd item of 2nd dictionary: 4\n"
     ]
    }
   ],
   "source": [
    "# Accessing the 2nd item of 2nd dictionary in nested_dict\n",
    "second_item = list(nested_dict['dict2'].values())[1]\n",
    "print(\"2nd item of 2nd dictionary:\", second_item)  "
   ]
  },
  {
   "cell_type": "markdown",
   "id": "324ed814-bcee-4f43-b648-2657cdbde01f",
   "metadata": {},
   "source": [
    "### 6.Write a Python script to concatenate following dictionaries to create a new one. \n",
    "    dic1 = {1:10, 2:20}\n",
    "    \n",
    "    dic2 = {3:30, 4:40}\n",
    "  \n",
    "    dic3 = {5:50,6:60}\n",
    "\n",
    "\n"
   ]
  },
  {
   "cell_type": "code",
   "execution_count": 16,
   "id": "89af9c60-e855-4dc4-9ba3-18ca1955aefd",
   "metadata": {},
   "outputs": [
    {
     "name": "stdout",
     "output_type": "stream",
     "text": [
      "Concatenated Dictionary: {1: 10, 2: 20, 3: 30, 4: 40, 5: 50, 6: 60}\n"
     ]
    }
   ],
   "source": [
    "# Given dictionaries\n",
    "dic1 = {1: 10, 2: 20}\n",
    "dic2 = {3: 30, 4: 40}\n",
    "dic3 = {5: 50, 6: 60}\n",
    "# Concatenating dictionaries\n",
    "concatenated_dict = {**dic1, **dic2, **dic3}\n",
    "print(\"Concatenated Dictionary:\", concatenated_dict)\n"
   ]
  },
  {
   "cell_type": "markdown",
   "id": "daeb26d2-746f-4cf2-b6a6-cc7d0719ae4c",
   "metadata": {},
   "source": [
    "# Practical No. 2a \n",
    "\n",
    "# `User Defined Functions`"
   ]
  },
  {
   "cell_type": "markdown",
   "id": "ee1b3faf-dd7b-4dbc-853c-8ac869a74a70",
   "metadata": {},
   "source": [
    "### 1.Write a Python function that takes a number as a parameter and check the number is prime or not.\n",
    "\n",
    "\n",
    "\n"
   ]
  },
  {
   "cell_type": "code",
   "execution_count": 17,
   "id": "c2806452-d2fb-424a-8260-d2df0f48b5cd",
   "metadata": {},
   "outputs": [
    {
     "name": "stdout",
     "output_type": "stream",
     "text": [
      "True\n",
      "False\n"
     ]
    }
   ],
   "source": [
    "def is_prime(number):\n",
    "    if number <= 1:\n",
    "        return False\n",
    "    for i in range(2, int(number ** 0.5) + 1):\n",
    "        if number % i == 0:\n",
    "            return False\n",
    "    return True\n",
    "# Test the function\n",
    "print(is_prime(7))  \n",
    "print(is_prime(10)) "
   ]
  },
  {
   "cell_type": "markdown",
   "id": "759a80e5-ca81-431f-b82e-b3c55460b84b",
   "metadata": {},
   "source": [
    "### 2.Write a Python function to calculate the factorial of a number (a non- negative integer). The function accepts the number as an argument.\n",
    "\n",
    "\n"
   ]
  },
  {
   "cell_type": "code",
   "execution_count": 18,
   "id": "4237dd95-78c0-4772-a7df-bebe0b768bbd",
   "metadata": {},
   "outputs": [
    {
     "name": "stdout",
     "output_type": "stream",
     "text": [
      "120\n",
      "1\n"
     ]
    }
   ],
   "source": [
    "def factorial(number):\n",
    "    if number < 0:\n",
    "        return \"Factorial is not defined for negative numbers.\"\n",
    "    elif number == 0 or number == 1:\n",
    "        return 1\n",
    "    else:\n",
    "        result = 1\n",
    "        for i in range(2, number + 1):\n",
    "            result *= i\n",
    "        return result\n",
    "# Test the function\n",
    "print(factorial(5))  \n",
    "print(factorial(0))  "
   ]
  },
  {
   "cell_type": "markdown",
   "id": "6354fe6a-e032-4b47-b65d-9a602424ffd5",
   "metadata": {},
   "source": [
    "### 3.Write a Python function that accepts a string and calculate the number of upper case letters and lower case letters.\n"
   ]
  },
  {
   "cell_type": "code",
   "execution_count": 19,
   "id": "dc9df31f-89d2-4c2c-810f-cfccd2a3f341",
   "metadata": {},
   "outputs": [
    {
     "name": "stdout",
     "output_type": "stream",
     "text": [
      "{'Upper case': 2, 'Lower case': 8}\n"
     ]
    }
   ],
   "source": [
    "def count_case(string):\n",
    "    upper_count = sum(1 for char in string if char.isupper())\n",
    "    lower_count = sum(1 for char in string if char.islower())\n",
    "    return {\"Upper case\": upper_count, \"Lower case\": lower_count}\n",
    "    \n",
    "# Test the function\n",
    "result = count_case(\"Hello World\")\n",
    "print(result) "
   ]
  },
  {
   "cell_type": "markdown",
   "id": "60bcdb05-8dcc-4586-995f-bf3021ff8618",
   "metadata": {},
   "source": [
    "# Practical No. 2b \n",
    "# `Modules`"
   ]
  },
  {
   "cell_type": "markdown",
   "id": "843a0297-c142-4be0-803f-e429325b60b5",
   "metadata": {},
   "source": [
    "### 1.Write a Python program to create a user defined module that will ask your college name and will display the name of the college.\n",
    "\n",
    "\n",
    "\n",
    "\n"
   ]
  },
  {
   "cell_type": "code",
   "execution_count": 28,
   "id": "6b3b0222-7c32-469e-9f47-f17dbc2e1076",
   "metadata": {},
   "outputs": [
    {
     "data": {
      "text/html": [
       "<span style='font-size:20px; font-weight:bold;'>OUTPUT:</span>"
      ],
      "text/plain": [
       "<IPython.core.display.HTML object>"
      ]
     },
     "metadata": {},
     "output_type": "display_data"
    },
    {
     "name": "stdout",
     "output_type": "stream",
     "text": [
      "Enter your college name:  dawood\n"
     ]
    },
    {
     "name": "stdout",
     "output_type": "stream",
     "text": [
      "College Name: dawood\n"
     ]
    }
   ],
   "source": [
    "# 1.\tCreate the module (college_module.py):\n",
    "# college_module.py\n",
    " \n",
    "# 2.\tUse the module:\n",
    "import college_module\n",
    "college_module.ask_college_name()"
   ]
  },
  {
   "cell_type": "markdown",
   "id": "f42c3ca9-f723-4e36-873f-9251f18ef007",
   "metadata": {},
   "source": [
    "### 2.Write a Python program that will calculate area and circumference of circle using inbuilt Math Module\n"
   ]
  },
  {
   "cell_type": "code",
   "execution_count": 29,
   "id": "54c0b8e7-3d2a-4ec8-b709-4db136e54330",
   "metadata": {},
   "outputs": [
    {
     "data": {
      "text/html": [
       "<span style='font-size:20px; font-weight:bold;'>OUTPUT:</span>"
      ],
      "text/plain": [
       "<IPython.core.display.HTML object>"
      ]
     },
     "metadata": {},
     "output_type": "display_data"
    },
    {
     "name": "stdout",
     "output_type": "stream",
     "text": [
      "Enter the radius of the circle:  7\n"
     ]
    },
    {
     "name": "stdout",
     "output_type": "stream",
     "text": [
      "Area of Circle: 153.93804002589985\n",
      "Circumference of Circle: 43.982297150257104\n"
     ]
    }
   ],
   "source": [
    "import math\n",
    " \n",
    "def circle_properties(radius):\n",
    "    area = math.pi * radius ** 2\n",
    "    circumference = 2 * math.pi * radius\n",
    "    return area, circumferenc\n",
    "# Example usage\n",
    "radius = float(input(\"Enter the radius of the circle: \"))\n",
    "area, circumference = circle_properties(radius)\n",
    "print(\"Area of Circle:\", area)\n",
    "print(\"Circumference of Circle:\", circumference)"
   ]
  },
  {
   "cell_type": "markdown",
   "id": "aa9c1e64-be0c-4c43-910c-32081c748962",
   "metadata": {},
   "source": [
    "### 3.Write a Python program that will display Calendar of given month using Calendar Module\n",
    "\n",
    "\n",
    "\n"
   ]
  },
  {
   "cell_type": "code",
   "execution_count": 30,
   "id": "43ad1b33-2d96-42bf-a541-39ed69b1a57d",
   "metadata": {},
   "outputs": [
    {
     "data": {
      "text/html": [
       "<span style='font-size:20px; font-weight:bold;'>OUTPUT:</span>"
      ],
      "text/plain": [
       "<IPython.core.display.HTML object>"
      ]
     },
     "metadata": {},
     "output_type": "display_data"
    },
    {
     "name": "stdout",
     "output_type": "stream",
     "text": [
      "Enter the year:  2024\n",
      "Enter the month (1-12):  10\n"
     ]
    },
    {
     "name": "stdout",
     "output_type": "stream",
     "text": [
      "    October 2024\n",
      "Mo Tu We Th Fr Sa Su\n",
      "    1  2  3  4  5  6\n",
      " 7  8  9 10 11 12 13\n",
      "14 15 16 17 18 19 20\n",
      "21 22 23 24 25 26 27\n",
      "28 29 30 31\n",
      "\n"
     ]
    }
   ],
   "source": [
    "import calendar\n",
    " \n",
    "def display_calendar(year, month):\n",
    "    print(calendar.month(year, month))\n",
    "# Example usage\n",
    "year = int(input(\"Enter the year: \"))\n",
    "month = int(input(\"Enter the month (1-12): \"))\n",
    "display_calendar(year, month)"
   ]
  },
  {
   "cell_type": "markdown",
   "id": "24d78280-abb9-4067-b551-a0e6610a47ef",
   "metadata": {},
   "source": [
    "### 4.Write a Python program that will  calculate square root of number using Math Module\n"
   ]
  },
  {
   "cell_type": "code",
   "execution_count": 31,
   "id": "d36e26e5-6fef-4cd5-9ef0-fbc9cd04ce6f",
   "metadata": {},
   "outputs": [
    {
     "data": {
      "text/html": [
       "<span style='font-size:20px; font-weight:bold;'>OUTPUT:</span>"
      ],
      "text/plain": [
       "<IPython.core.display.HTML object>"
      ]
     },
     "metadata": {},
     "output_type": "display_data"
    },
    {
     "name": "stdout",
     "output_type": "stream",
     "text": [
      "Enter a number:  25\n"
     ]
    },
    {
     "name": "stdout",
     "output_type": "stream",
     "text": [
      "Square root of 25.0 is: 5.0\n"
     ]
    }
   ],
   "source": [
    "import math\n",
    " \n",
    "def calculate_square_root(number):\n",
    "    return math.sqrt(number)\n",
    "# Example usage\n",
    "number = float(input(\"Enter a number: \"))\n",
    "print(\"Square root of\", number, \"is:\", calculate_square_root(number))\n"
   ]
  },
  {
   "cell_type": "markdown",
   "id": "69f30334-18ec-45ba-bef6-1d282f5d8c38",
   "metadata": {},
   "source": [
    "# Practical No. 3 \n",
    "\n",
    "# `NumPy & Pandas`\n"
   ]
  },
  {
   "cell_type": "markdown",
   "id": "d745dcde-98b8-40bd-98c7-10a9ea3eea65",
   "metadata": {},
   "source": [
    "### 1.Write a Python program to create two matrices and perform addition, subtraction, multiplication and division operation on matrix.\n",
    "\n",
    "\n",
    "\n"
   ]
  },
  {
   "cell_type": "code",
   "execution_count": 32,
   "id": "d7750a20-e005-4c88-9b92-10665e284109",
   "metadata": {},
   "outputs": [
    {
     "data": {
      "text/html": [
       "<span style='font-size:20px; font-weight:bold;'>OUTPUT:</span>"
      ],
      "text/plain": [
       "<IPython.core.display.HTML object>"
      ]
     },
     "metadata": {},
     "output_type": "display_data"
    },
    {
     "name": "stdout",
     "output_type": "stream",
     "text": [
      "Addition:\n",
      " [[ 6  8]\n",
      " [10 12]]\n",
      "Subtraction:\n",
      " [[-4 -4]\n",
      " [-4 -4]]\n",
      "Multiplication:\n",
      " [[ 5 12]\n",
      " [21 32]]\n",
      "Division:\n",
      " [[0.2        0.33333333]\n",
      " [0.42857143 0.5       ]]\n"
     ]
    }
   ],
   "source": [
    "import numpy as np\n",
    "# Create two matrices\n",
    "matrix1 = np.array([[1, 2], [3, 4]])\n",
    "matrix2 = np.array([[5, 6], [7, 8]])\n",
    "# Perform addition\n",
    "addition = matrix1 + matrix2\n",
    "print(\"Addition:\\n\", addition)\n",
    " \n",
    "# Perform subtraction\n",
    "subtraction = matrix1 - matrix2\n",
    "print(\"Subtraction:\\n\", subtraction)\n",
    " \n",
    "# Perform element-wise multiplication\n",
    "multiplication = matrix1 * matrix2\n",
    "print(\"Multiplication:\\n\", multiplication)\n",
    " \n",
    "# Perform element-wise division\n",
    "division = matrix1 / matrix2\n",
    "print(\"Division:\\n\", division)"
   ]
  },
  {
   "cell_type": "markdown",
   "id": "029aaf1a-85f7-4784-9959-130fdaed800c",
   "metadata": {},
   "source": [
    "### 2.Write a NumPy program to generate six random integers between 10 and 30.\n",
    "\n",
    "\n",
    "\n"
   ]
  },
  {
   "cell_type": "code",
   "execution_count": 33,
   "id": "ba2d7e5c-3cda-45fe-915a-b5087c1756a6",
   "metadata": {},
   "outputs": [
    {
     "data": {
      "text/html": [
       "<span style='font-size:20px; font-weight:bold;'>OUTPUT:</span>"
      ],
      "text/plain": [
       "<IPython.core.display.HTML object>"
      ]
     },
     "metadata": {},
     "output_type": "display_data"
    },
    {
     "name": "stdout",
     "output_type": "stream",
     "text": [
      "Random integers: [14 27 24 23 21 28]\n"
     ]
    }
   ],
   "source": [
    "random_integers = np.random.randint(10, 30, 6)\n",
    "print(\"Random integers:\", random_integers)"
   ]
  },
  {
   "cell_type": "markdown",
   "id": "751cce46-2de5-4154-937e-d55e89046c8e",
   "metadata": {},
   "source": [
    "### 3.Write a python code to read a csv file using pandas module and print the first five and last five lines of a file.\n",
    "\n",
    "\n",
    "\n"
   ]
  },
  {
   "cell_type": "code",
   "execution_count": 34,
   "id": "8e490888-87b3-42a5-98a4-05848a315914",
   "metadata": {},
   "outputs": [
    {
     "data": {
      "text/html": [
       "<span style='font-size:20px; font-weight:bold;'>OUTPUT:</span>"
      ],
      "text/plain": [
       "<IPython.core.display.HTML object>"
      ]
     },
     "metadata": {},
     "output_type": "display_data"
    },
    {
     "name": "stdout",
     "output_type": "stream",
     "text": [
      "First five lines:\n",
      "          Day Coffee Type  Units Sold\n",
      "0     Monday    Espresso          25\n",
      "1     Monday       Latte          15\n",
      "2    Tuesday    Espresso          30\n",
      "3    Tuesday       Latte          20\n",
      "4  Wednesday    Espresso          35\n",
      "Last five lines:\n",
      "          Day Coffee Type  Units Sold\n",
      "9     Friday       Latte          35\n",
      "10  Saturday    Espresso          45\n",
      "11  Saturday       Latte          35\n",
      "12    Sunday    Espresso          45\n",
      "13    Sunday       Latte          35\n"
     ]
    }
   ],
   "source": [
    "import pandas as pd\n",
    "# Read CSV file\n",
    "df = pd.read_csv(\"coffee.csv\")\n",
    "\n",
    "# Print the first five lines\n",
    "print(\"First five lines:\\n\", df.head())\n",
    " \n",
    "# Print the last five lines\n",
    "print(\"Last five lines:\\n\", df.tail())"
   ]
  },
  {
   "cell_type": "markdown",
   "id": "433e38db-40a3-4811-94bf-650bda9e785c",
   "metadata": {},
   "source": [
    "### 4.Write a program code to compute summary statistics such as mean, median, mode, standard deviation and variance of the given dataset.\n",
    "\n",
    "\n"
   ]
  },
  {
   "cell_type": "code",
   "execution_count": 37,
   "id": "b66982bf-2447-4f06-872e-fc1dbe09d203",
   "metadata": {},
   "outputs": [
    {
     "data": {
      "text/html": [
       "<span style='font-size:20px; font-weight:bold;'>OUTPUT:</span>"
      ],
      "text/plain": [
       "<IPython.core.display.HTML object>"
      ]
     },
     "metadata": {},
     "output_type": "display_data"
    },
    {
     "name": "stdout",
     "output_type": "stream",
     "text": [
      "Mean: 37.5\n",
      "Median: 35.0\n",
      "Mode: 20\n",
      "Standard Deviation: 19.84313483298443\n",
      "Variance: 393.75\n"
     ]
    }
   ],
   "source": [
    "from scipy import stats\n",
    "# Sample dataset\n",
    "data = [10, 20, 20, 30, 40, 50, 60, 70]\n",
    "\n",
    "# Mean\n",
    "mean = np.mean(data)\n",
    "print(\"Mean:\", mean)\n",
    "\n",
    "# Median\n",
    "median = np.median(data)\n",
    "print(\"Median:\", median)\n",
    "\n",
    "# Mode\n",
    "mode = stats.mode(data, keepdims=True).mode[0]  # Ensure mode is returned as an array\n",
    "print(\"Mode:\", mode)\n",
    "\n",
    "# Standard Deviation\n",
    "std_dev = np.std(data)\n",
    "print(\"Standard Deviation:\", std_dev)\n",
    "\n",
    "# Variance\n",
    "variance = np.var(data)\n",
    "print(\"Variance:\", variance)\n"
   ]
  },
  {
   "cell_type": "markdown",
   "id": "28e2b78b-d8d1-42f4-bb6d-b3bcfd317189",
   "metadata": {},
   "source": [
    "### 5.Write a python code to read a csv file using pandas module and preprocess the dataset for null, duplicate values.\n",
    "\n",
    "\n",
    "\n",
    "\n"
   ]
  },
  {
   "cell_type": "code",
   "execution_count": 121,
   "id": "bfb8b97e-f3e3-4576-9dae-535d8b1fe86b",
   "metadata": {},
   "outputs": [
    {
     "data": {
      "text/html": [
       "<div>\n",
       "<style scoped>\n",
       "    .dataframe tbody tr th:only-of-type {\n",
       "        vertical-align: middle;\n",
       "    }\n",
       "\n",
       "    .dataframe tbody tr th {\n",
       "        vertical-align: top;\n",
       "    }\n",
       "\n",
       "    .dataframe thead th {\n",
       "        text-align: right;\n",
       "    }\n",
       "</style>\n",
       "<table border=\"1\" class=\"dataframe\">\n",
       "  <thead>\n",
       "    <tr style=\"text-align: right;\">\n",
       "      <th></th>\n",
       "      <th>ID</th>\n",
       "      <th>COUNTRY</th>\n",
       "      <th>COLOR</th>\n",
       "      <th>SKILL</th>\n",
       "      <th>SKILL_POINTS</th>\n",
       "      <th>UTILIZATION</th>\n",
       "      <th>IS_VALID</th>\n",
       "    </tr>\n",
       "  </thead>\n",
       "  <tbody>\n",
       "    <tr>\n",
       "      <th>0</th>\n",
       "      <td>1</td>\n",
       "      <td>France</td>\n",
       "      <td>Signal violet</td>\n",
       "      <td>marksmanship</td>\n",
       "      <td>14.0</td>\n",
       "      <td>0.19240</td>\n",
       "      <td>1</td>\n",
       "    </tr>\n",
       "    <tr>\n",
       "      <th>1</th>\n",
       "      <td>1</td>\n",
       "      <td>France</td>\n",
       "      <td>Signal violet</td>\n",
       "      <td>marksmanship</td>\n",
       "      <td>14.0</td>\n",
       "      <td>0.19240</td>\n",
       "      <td>1</td>\n",
       "    </tr>\n",
       "    <tr>\n",
       "      <th>2</th>\n",
       "      <td>2</td>\n",
       "      <td>Solomon Islands</td>\n",
       "      <td>Pearl violet</td>\n",
       "      <td>NaN</td>\n",
       "      <td>4.0</td>\n",
       "      <td>NaN</td>\n",
       "      <td>1</td>\n",
       "    </tr>\n",
       "    <tr>\n",
       "      <th>3</th>\n",
       "      <td>3</td>\n",
       "      <td>Germany</td>\n",
       "      <td>NaN</td>\n",
       "      <td>calligraphy</td>\n",
       "      <td>12.0</td>\n",
       "      <td>0.88646</td>\n",
       "      <td>0</td>\n",
       "    </tr>\n",
       "    <tr>\n",
       "      <th>4</th>\n",
       "      <td>4</td>\n",
       "      <td>Brazil</td>\n",
       "      <td>Rose quartz</td>\n",
       "      <td>archery</td>\n",
       "      <td>9.0</td>\n",
       "      <td>0.34520</td>\n",
       "      <td>1</td>\n",
       "    </tr>\n",
       "  </tbody>\n",
       "</table>\n",
       "</div>"
      ],
      "text/plain": [
       "   ID          COUNTRY          COLOR         SKILL  SKILL_POINTS  \\\n",
       "0   1           France  Signal violet  marksmanship          14.0   \n",
       "1   1           France  Signal violet  marksmanship          14.0   \n",
       "2   2  Solomon Islands   Pearl violet           NaN           4.0   \n",
       "3   3          Germany            NaN   calligraphy          12.0   \n",
       "4   4           Brazil    Rose quartz       archery           9.0   \n",
       "\n",
       "   UTILIZATION  IS_VALID  \n",
       "0      0.19240         1  \n",
       "1      0.19240         1  \n",
       "2          NaN         1  \n",
       "3      0.88646         0  \n",
       "4      0.34520         1  "
      ]
     },
     "execution_count": 121,
     "metadata": {},
     "output_type": "execute_result"
    }
   ],
   "source": [
    "df = pd.read_csv('missing.csv')\n",
    "df.head()"
   ]
  },
  {
   "cell_type": "code",
   "execution_count": 122,
   "id": "23549ae0-961c-4d86-8d9d-5750f9355583",
   "metadata": {},
   "outputs": [
    {
     "data": {
      "text/html": [
       "<span style='font-size:20px; font-weight:bold;'>OUTPUT:</span>"
      ],
      "text/plain": [
       "<IPython.core.display.HTML object>"
      ]
     },
     "metadata": {},
     "output_type": "display_data"
    },
    {
     "name": "stdout",
     "output_type": "stream",
     "text": [
      "Null Values in Each Column:\n",
      " ID              0\n",
      "COUNTRY         0\n",
      "COLOR           1\n",
      "SKILL           1\n",
      "SKILL_POINTS    4\n",
      "UTILIZATION     4\n",
      "IS_VALID        0\n",
      "dtype: int64\n"
     ]
    }
   ],
   "source": [
    "# Check for null values and fill or drop as needed\n",
    "print(\"Null Values in Each Column:\\n\",df.isnull().sum()) "
   ]
  },
  {
   "cell_type": "code",
   "execution_count": 124,
   "id": "51adac30-2855-4612-b81b-f7000e228696",
   "metadata": {},
   "outputs": [
    {
     "data": {
      "text/html": [
       "<span style='font-size:20px; font-weight:bold;'>OUTPUT:</span>"
      ],
      "text/plain": [
       "<IPython.core.display.HTML object>"
      ]
     },
     "metadata": {},
     "output_type": "display_data"
    },
    {
     "name": "stdout",
     "output_type": "stream",
     "text": [
      "Null values after cleaning:\n",
      " ID              0\n",
      "COUNTRY         0\n",
      "COLOR           0\n",
      "SKILL           0\n",
      "SKILL_POINTS    0\n",
      "UTILIZATION     0\n",
      "IS_VALID        0\n",
      "dtype: int64\n"
     ]
    }
   ],
   "source": [
    "df.dropna(inplace=True)\n",
    "print(\"Null values after cleaning:\\n\", df.isnull().sum()) "
   ]
  },
  {
   "cell_type": "code",
   "execution_count": 125,
   "id": "fa54dbe5-4c05-44c1-9543-f11d8e57b960",
   "metadata": {},
   "outputs": [
    {
     "data": {
      "text/html": [
       "<span style='font-size:20px; font-weight:bold;'>OUTPUT:</span>"
      ],
      "text/plain": [
       "<IPython.core.display.HTML object>"
      ]
     },
     "metadata": {},
     "output_type": "display_data"
    },
    {
     "name": "stdout",
     "output_type": "stream",
     "text": [
      "Duplicate values: 1\n"
     ]
    }
   ],
   "source": [
    "# Check for duplicate values and remove them\n",
    "duplicates = df.duplicated().sum()\n",
    "print(\"Duplicate values:\", duplicates)"
   ]
  },
  {
   "cell_type": "code",
   "execution_count": 126,
   "id": "fc3eb726-e755-4b62-a261-01cb791c7832",
   "metadata": {},
   "outputs": [
    {
     "data": {
      "text/html": [
       "<span style='font-size:20px; font-weight:bold;'>OUTPUT:</span>"
      ],
      "text/plain": [
       "<IPython.core.display.HTML object>"
      ]
     },
     "metadata": {},
     "output_type": "display_data"
    },
    {
     "name": "stdout",
     "output_type": "stream",
     "text": [
      "Duplicate values: 0\n"
     ]
    }
   ],
   "source": [
    "df.drop_duplicates(inplace=True)\n",
    "print(\"Duplicate values:\",df.duplicated().sum())"
   ]
  },
  {
   "cell_type": "code",
   "execution_count": 113,
   "id": "57a22730-f028-4c2a-b3df-ff63ec00232e",
   "metadata": {},
   "outputs": [
    {
     "data": {
      "text/html": [
       "<div>\n",
       "<style scoped>\n",
       "    .dataframe tbody tr th:only-of-type {\n",
       "        vertical-align: middle;\n",
       "    }\n",
       "\n",
       "    .dataframe tbody tr th {\n",
       "        vertical-align: top;\n",
       "    }\n",
       "\n",
       "    .dataframe thead th {\n",
       "        text-align: right;\n",
       "    }\n",
       "</style>\n",
       "<table border=\"1\" class=\"dataframe\">\n",
       "  <thead>\n",
       "    <tr style=\"text-align: right;\">\n",
       "      <th></th>\n",
       "      <th>ID</th>\n",
       "      <th>COUNTRY</th>\n",
       "      <th>COLOR</th>\n",
       "      <th>SKILL</th>\n",
       "      <th>SKILL_POINTS</th>\n",
       "      <th>UTILIZATION</th>\n",
       "      <th>IS_VALID</th>\n",
       "    </tr>\n",
       "  </thead>\n",
       "  <tbody>\n",
       "    <tr>\n",
       "      <th>0</th>\n",
       "      <td>1</td>\n",
       "      <td>France</td>\n",
       "      <td>Signal violet</td>\n",
       "      <td>marksmanship</td>\n",
       "      <td>14.0</td>\n",
       "      <td>0.1924</td>\n",
       "      <td>1</td>\n",
       "    </tr>\n",
       "    <tr>\n",
       "      <th>4</th>\n",
       "      <td>4</td>\n",
       "      <td>Brazil</td>\n",
       "      <td>Rose quartz</td>\n",
       "      <td>archery</td>\n",
       "      <td>9.0</td>\n",
       "      <td>0.3452</td>\n",
       "      <td>1</td>\n",
       "    </tr>\n",
       "    <tr>\n",
       "      <th>5</th>\n",
       "      <td>5</td>\n",
       "      <td>Canada</td>\n",
       "      <td>Denim blue</td>\n",
       "      <td>fencing</td>\n",
       "      <td>15.0</td>\n",
       "      <td>0.6734</td>\n",
       "      <td>1</td>\n",
       "    </tr>\n",
       "    <tr>\n",
       "      <th>7</th>\n",
       "      <td>7</td>\n",
       "      <td>Japan</td>\n",
       "      <td>Red poppy</td>\n",
       "      <td>painting</td>\n",
       "      <td>8.0</td>\n",
       "      <td>0.2345</td>\n",
       "      <td>1</td>\n",
       "    </tr>\n",
       "    <tr>\n",
       "      <th>9</th>\n",
       "      <td>9</td>\n",
       "      <td>Italy</td>\n",
       "      <td>Olive green</td>\n",
       "      <td>knitting</td>\n",
       "      <td>10.0</td>\n",
       "      <td>0.5566</td>\n",
       "      <td>0</td>\n",
       "    </tr>\n",
       "    <tr>\n",
       "      <th>10</th>\n",
       "      <td>10</td>\n",
       "      <td>Argentina</td>\n",
       "      <td>Azure blue</td>\n",
       "      <td>marksmanship</td>\n",
       "      <td>14.0</td>\n",
       "      <td>0.1924</td>\n",
       "      <td>1</td>\n",
       "    </tr>\n",
       "    <tr>\n",
       "      <th>11</th>\n",
       "      <td>11</td>\n",
       "      <td>Portugal</td>\n",
       "      <td>Fuchsia pink</td>\n",
       "      <td>dancing</td>\n",
       "      <td>7.0</td>\n",
       "      <td>0.7294</td>\n",
       "      <td>0</td>\n",
       "    </tr>\n",
       "    <tr>\n",
       "      <th>12</th>\n",
       "      <td>12</td>\n",
       "      <td>Australia</td>\n",
       "      <td>Turquoise</td>\n",
       "      <td>sculpting</td>\n",
       "      <td>11.0</td>\n",
       "      <td>0.4231</td>\n",
       "      <td>1</td>\n",
       "    </tr>\n",
       "    <tr>\n",
       "      <th>14</th>\n",
       "      <td>14</td>\n",
       "      <td>South Africa</td>\n",
       "      <td>Coral red</td>\n",
       "      <td>archery</td>\n",
       "      <td>12.0</td>\n",
       "      <td>0.5530</td>\n",
       "      <td>0</td>\n",
       "    </tr>\n",
       "    <tr>\n",
       "      <th>17</th>\n",
       "      <td>17</td>\n",
       "      <td>Mexico</td>\n",
       "      <td>Emerald green</td>\n",
       "      <td>pottery</td>\n",
       "      <td>13.0</td>\n",
       "      <td>0.7845</td>\n",
       "      <td>1</td>\n",
       "    </tr>\n",
       "    <tr>\n",
       "      <th>19</th>\n",
       "      <td>19</td>\n",
       "      <td>UK</td>\n",
       "      <td>Ocean blue</td>\n",
       "      <td>painting</td>\n",
       "      <td>9.0</td>\n",
       "      <td>0.4573</td>\n",
       "      <td>1</td>\n",
       "    </tr>\n",
       "  </tbody>\n",
       "</table>\n",
       "</div>"
      ],
      "text/plain": [
       "    ID       COUNTRY          COLOR         SKILL  SKILL_POINTS  UTILIZATION  \\\n",
       "0    1        France  Signal violet  marksmanship          14.0       0.1924   \n",
       "4    4        Brazil    Rose quartz       archery           9.0       0.3452   \n",
       "5    5        Canada     Denim blue       fencing          15.0       0.6734   \n",
       "7    7         Japan      Red poppy      painting           8.0       0.2345   \n",
       "9    9         Italy    Olive green      knitting          10.0       0.5566   \n",
       "10  10     Argentina     Azure blue  marksmanship          14.0       0.1924   \n",
       "11  11      Portugal   Fuchsia pink       dancing           7.0       0.7294   \n",
       "12  12     Australia      Turquoise     sculpting          11.0       0.4231   \n",
       "14  14  South Africa      Coral red       archery          12.0       0.5530   \n",
       "17  17        Mexico  Emerald green       pottery          13.0       0.7845   \n",
       "19  19            UK     Ocean blue      painting           9.0       0.4573   \n",
       "\n",
       "    IS_VALID  \n",
       "0          1  \n",
       "4          1  \n",
       "5          1  \n",
       "7          1  \n",
       "9          0  \n",
       "10         1  \n",
       "11         0  \n",
       "12         1  \n",
       "14         0  \n",
       "17         1  \n",
       "19         1  "
      ]
     },
     "execution_count": 113,
     "metadata": {},
     "output_type": "execute_result"
    }
   ],
   "source": [
    "# Show the cleaned dataset\n",
    "df"
   ]
  },
  {
   "cell_type": "code",
   "execution_count": 58,
   "id": "a5c273c5-81d6-4660-bd55-b65290238727",
   "metadata": {},
   "outputs": [
    {
     "data": {
      "text/html": [
       "<div>\n",
       "<style scoped>\n",
       "    .dataframe tbody tr th:only-of-type {\n",
       "        vertical-align: middle;\n",
       "    }\n",
       "\n",
       "    .dataframe tbody tr th {\n",
       "        vertical-align: top;\n",
       "    }\n",
       "\n",
       "    .dataframe thead th {\n",
       "        text-align: right;\n",
       "    }\n",
       "</style>\n",
       "<table border=\"1\" class=\"dataframe\">\n",
       "  <thead>\n",
       "    <tr style=\"text-align: right;\">\n",
       "      <th></th>\n",
       "      <th>ID</th>\n",
       "      <th>COUNTRY</th>\n",
       "      <th>COLOR</th>\n",
       "      <th>SKILL</th>\n",
       "      <th>SKILL_POINTS</th>\n",
       "      <th>UTILIZATION</th>\n",
       "      <th>IS_VALID</th>\n",
       "    </tr>\n",
       "  </thead>\n",
       "  <tbody>\n",
       "    <tr>\n",
       "      <th>0</th>\n",
       "      <td>1</td>\n",
       "      <td>France</td>\n",
       "      <td>Signal violet</td>\n",
       "      <td>marksmanship</td>\n",
       "      <td>14</td>\n",
       "      <td>0.1924</td>\n",
       "      <td>1</td>\n",
       "    </tr>\n",
       "    <tr>\n",
       "      <th>1</th>\n",
       "      <td>1</td>\n",
       "      <td>France</td>\n",
       "      <td>Signal violet</td>\n",
       "      <td>marksmanship</td>\n",
       "      <td>14</td>\n",
       "      <td>0.1924</td>\n",
       "      <td>1</td>\n",
       "    </tr>\n",
       "  </tbody>\n",
       "</table>\n",
       "</div>"
      ],
      "text/plain": [
       "   ID COUNTRY          COLOR         SKILL  SKILL_POINTS  UTILIZATION  \\\n",
       "0   1  France  Signal violet  marksmanship            14       0.1924   \n",
       "1   1  France  Signal violet  marksmanship            14       0.1924   \n",
       "\n",
       "   IS_VALID  \n",
       "0         1  \n",
       "1         1  "
      ]
     },
     "execution_count": 58,
     "metadata": {},
     "output_type": "execute_result"
    }
   ],
   "source": [
    "# Fill or Drop Null Values (Choose one based on your requirement)\n",
    "# Option 1: Drop rows with any null values\n",
    "data = data.dropna()\n",
    "data"
   ]
  },
  {
   "cell_type": "code",
   "execution_count": 59,
   "id": "bb01f7c0-003c-4370-adb0-035dd90b2c9b",
   "metadata": {},
   "outputs": [
    {
     "name": "stdout",
     "output_type": "stream",
     "text": [
      "ID              0\n",
      "COUNTRY         0\n",
      "COLOR           0\n",
      "SKILL           0\n",
      "SKILL_POINTS    0\n",
      "UTILIZATION     0\n",
      "IS_VALID        0\n",
      "dtype: int64\n"
     ]
    }
   ],
   "source": [
    "print(data.isnull().sum())"
   ]
  },
  {
   "cell_type": "code",
   "execution_count": 65,
   "id": "808a79eb-e84a-447f-ae30-492cd18391e3",
   "metadata": {},
   "outputs": [
    {
     "name": "stdout",
     "output_type": "stream",
     "text": [
      "\n",
      "Duplicate Rows: 0\n"
     ]
    }
   ],
   "source": [
    "# Check for duplicate rows\n",
    "print(\"\\nDuplicate Rows:\", data.duplicated().sum())"
   ]
  },
  {
   "cell_type": "code",
   "execution_count": 63,
   "id": "3601aabe-b589-4936-bd8f-1294788aee69",
   "metadata": {},
   "outputs": [],
   "source": [
    "# Remove duplicate rows\n",
    "data= data.drop_duplicates()"
   ]
  },
  {
   "cell_type": "code",
   "execution_count": 64,
   "id": "4c753978-0c7d-4c4f-8208-47f1a2be992c",
   "metadata": {},
   "outputs": [
    {
     "name": "stdout",
     "output_type": "stream",
     "text": [
      "\n",
      "Cleaned Data:\n",
      "   ID COUNTRY          COLOR         SKILL  SKILL_POINTS  UTILIZATION  \\\n",
      "0   1  France  Signal violet  marksmanship            14       0.1924   \n",
      "\n",
      "   IS_VALID  \n",
      "0         1  \n"
     ]
    }
   ],
   "source": [
    "# Display the cleaned data\n",
    "print(\"\\nCleaned Data:\")\n",
    "print(data_cleaned.head())"
   ]
  },
  {
   "cell_type": "markdown",
   "id": "5aa2d586-69fa-4eec-b745-e28f72300fd1",
   "metadata": {},
   "source": [
    "# Practical No. 4 \n",
    "\n",
    "# `Breadth First Search`"
   ]
  },
  {
   "cell_type": "markdown",
   "id": "c8d035e5-8211-467e-ace1-b3bb1bb3a548",
   "metadata": {},
   "source": [
    "### 1.\tWrite a Program to Implement Breadth First Search without goal state using Python.\n"
   ]
  },
  {
   "cell_type": "code",
   "execution_count": 101,
   "id": "cf3cc75f-ed06-4d5d-88d1-94d9ad4208f2",
   "metadata": {},
   "outputs": [
    {
     "data": {
      "text/html": [
       "<span style='font-size:20px; font-weight:bold;'>OUTPUT:</span>"
      ],
      "text/plain": [
       "<IPython.core.display.HTML object>"
      ]
     },
     "metadata": {},
     "output_type": "display_data"
    },
    {
     "name": "stdout",
     "output_type": "stream",
     "text": [
      "BFS Traversal:\n",
      "A B C D E F G H "
     ]
    }
   ],
   "source": [
    "from collections import deque\n",
    "\n",
    "def bfs(graph, start):\n",
    "    visited = set()\n",
    "    queue = deque([start])\n",
    "    visited.add(start)\n",
    "\n",
    "    while queue:\n",
    "        vertex = queue.popleft()\n",
    "        print(vertex, end=\" \")\n",
    "\n",
    "        for neighbor in graph[vertex]:\n",
    "            if neighbor not in visited:\n",
    "                queue.append(neighbor)\n",
    "                visited.add(neighbor)\n",
    "\n",
    "# Example usage:\n",
    "graph = {\n",
    "    'A': ['B', 'C'],\n",
    "    'B': ['A', 'D', 'E'],\n",
    "    'C': ['A', 'F', 'G'],\n",
    "    'D': ['B'],\n",
    "    'E': ['B', 'H'],\n",
    "    'F': ['C'],\n",
    "    'G': ['C'],\n",
    "    'H': ['E']\n",
    "}\n",
    "start_vertex = 'A'\n",
    "print(\"BFS Traversal:\")\n",
    "bfs(graph, start_vertex)"
   ]
  },
  {
   "cell_type": "markdown",
   "id": "99f7ca43-44de-49c0-a253-213974668798",
   "metadata": {},
   "source": [
    "### 2.\tWrite a Program to Implement Breadth First Search with goal state using Python."
   ]
  },
  {
   "cell_type": "code",
   "execution_count": 106,
   "id": "7622053a-393c-42b4-a8f1-1ca3f21860fe",
   "metadata": {},
   "outputs": [
    {
     "data": {
      "text/html": [
       "<span style='font-size:20px; font-weight:bold;'>OUTPUT:</span>"
      ],
      "text/plain": [
       "<IPython.core.display.HTML object>"
      ]
     },
     "metadata": {},
     "output_type": "display_data"
    },
    {
     "name": "stdout",
     "output_type": "stream",
     "text": [
      "\n",
      "BFS Traversal:\n",
      "1 \n",
      "Goal state not reached.\n",
      "2 \n",
      "Goal state not reached.\n",
      "3 \n",
      "Goal state not reached.\n",
      "4 \n",
      "Goal state reached!\n"
     ]
    }
   ],
   "source": [
    "from collections import deque\n",
    "\n",
    "def bfs_with_goal(graph, start, goal):\n",
    "    visited = set()\n",
    "    queue = deque([start])\n",
    "    visited.add(start)\n",
    "\n",
    "    while queue:\n",
    "        current_vertex = queue.popleft()\n",
    "        print(current_vertex, end=\" \")\n",
    "\n",
    "        if current_vertex == goal:\n",
    "            print(\"\\nGoal state reached!\")\n",
    "            return\n",
    "\n",
    "        for neighbor in graph[current_vertex]:\n",
    "            if neighbor not in visited:\n",
    "                queue.append(neighbor)\n",
    "                visited.add(neighbor)\n",
    "        print(\"\\nGoal state not reached.\")\n",
    "# Example usage:\n",
    "graph = {\n",
    "    '1': ['2', '3'],\n",
    "    '2': ['1', '4', '5'],\n",
    "    '3': ['1', '6'],\n",
    "    '4': ['2'],\n",
    "    '5': ['2', '7'],\n",
    "    '6': ['3', '8'],\n",
    "    '7': ['5'],\n",
    "    '8': ['6']\n",
    "}\n",
    "\n",
    "start_state = '1'\n",
    "goal_state = '4'\n",
    "print(\"\\nBFS Traversal:\")\n",
    "bfs_with_goal(graph, start_state, goal_state)"
   ]
  }
 ],
 "metadata": {
  "kernelspec": {
   "display_name": "Python 3 (ipykernel)",
   "language": "python",
   "name": "python3"
  },
  "language_info": {
   "codemirror_mode": {
    "name": "ipython",
    "version": 3
   },
   "file_extension": ".py",
   "mimetype": "text/x-python",
   "name": "python",
   "nbconvert_exporter": "python",
   "pygments_lexer": "ipython3",
   "version": "3.12.4"
  }
 },
 "nbformat": 4,
 "nbformat_minor": 5
}
